{
 "cells": [
  {
   "cell_type": "code",
   "execution_count": 1,
   "metadata": {},
   "outputs": [],
   "source": [
    "from py_vollib.black_scholes import black_scholes\n",
    "from py_vollib.black_scholes.implied_volatility import implied_volatility\n",
    "from py_vollib.black_scholes.greeks import analytical\n",
    "\n",
    "import numpy as np \n",
    "\n",
    "import plotly.graph_objects as go\n"
   ]
  },
  {
   "cell_type": "code",
   "execution_count": 2,
   "metadata": {},
   "outputs": [],
   "source": [
    "#class for option\n",
    "class Option:\n",
    "    def __init__(self, spot_price, strike_price, expiration, interest_rate, volatility, option_type,position):\n",
    "        self._spot_price = spot_price\n",
    "        self._strike_price = strike_price\n",
    "        self._expiration = expiration\n",
    "        self._interest_rate = interest_rate\n",
    "        self._volatility = volatility\n",
    "        self._option_type = option_type\n",
    "        self._position = position\n",
    "\n",
    "\n",
    "    @property\n",
    "    def spot_price(self):\n",
    "        return self._spot_price\n",
    "\n",
    "    @property\n",
    "    def strike_price(self):\n",
    "        return self._strike_price\n",
    "\n",
    "    @property\n",
    "    def expiration(self):\n",
    "        return self._expiration\n",
    "\n",
    "    @property\n",
    "    def interest_rate(self):\n",
    "        return self._interest_rate\n",
    "\n",
    "    @property\n",
    "    def volatility(self):\n",
    "        return self._volatility\n",
    "\n",
    "    @property\n",
    "    def option_type(self):\n",
    "        return self._option_type\n",
    "    \n",
    "    @property\n",
    "    def position(self):\n",
    "        return self._position\n",
    "\n",
    "    def price(self):\n",
    "        \"\"\"Calculate price by Black-Scholes model\"\"\"\n",
    "        return black_scholes(self.option_type, self.spot_price, self.strike_price,\n",
    "                             self.expiration/365, self.interest_rate, self.volatility)\n",
    "\n",
    "    def delta(self):\n",
    "        \"\"\"Calculate delta\"\"\"\n",
    "        return analytical.delta(self.option_type, self.spot_price, self.strike_price,\n",
    "                                self.expiration/365, self.interest_rate, self.volatility)\n",
    "\n",
    "    def vega(self):\n",
    "        \"\"\"Calculate vega\"\"\"\n",
    "        return analytical.vega(self.option_type, self.spot_price, self.strike_price,\n",
    "                               self.expiration/365, self.interest_rate, self.volatility)\n",
    "\n",
    "    def theta(self):\n",
    "        \"\"\"Calculate theta\"\"\"\n",
    "        return analytical.theta(self.option_type, self.spot_price, self.strike_price,\n",
    "                                self.expiration/365, self.interest_rate, self.volatility)\n",
    "\n",
    "    def gamma(self):\n",
    "        \"\"\"Calculate gama\"\"\"\n",
    "        return analytical.gamma(self.option_type, self.spot_price, self.strike_price,\n",
    "                                self.expiration/365, self.interest_rate, self.volatility)\n",
    "\n",
    "    def rho(self):\n",
    "        \"\"\"Calculate rho\"\"\"\n",
    "        return analytical.rho(self.option_type, self.spot_price, self.strike_price,\n",
    "                              self.expiration/365, self.interest_rate, self.volatility)\n",
    "    \n",
    "    def _long_or_short(self):\n",
    "        sign = 1 if self._position == 's' else -1\n",
    "        return sign\n",
    "    \n",
    "    \n",
    "    def _grid_price(self,spot,expiration):\n",
    "        return black_scholes(self.option_type, spot, self.strike_price,\n",
    "                             expiration/365, self.interest_rate, self.volatility)\n",
    "    \n",
    "    def generate_price_grid(self, min_x, max_x):\n",
    "        \n",
    "        spot_values = np.arange(min_x, max_x + 1, 1)\n",
    "        expiration_values = np.arange(self.expiration, -1, -1)  # Expirace klesá od aktuální až k nule\n",
    "\n",
    "        price_grid = np.zeros((len(expiration_values), len(spot_values)))\n",
    "\n",
    "        for i, spot in enumerate(spot_values):\n",
    "            for j, expiration in enumerate(expiration_values):\n",
    "                price_grid[j, i] = round(self._grid_price(spot,expiration),3)\n",
    "\n",
    "        sign = self._long_or_short()\n",
    "\n",
    "        \n",
    "        return  {\"spot_values\": spot_values, \"expiration_values\": expiration_values, \"price_grid\": (price_grid * sign)}\n"
   ]
  },
  {
   "cell_type": "code",
   "execution_count": 3,
   "metadata": {},
   "outputs": [
    {
     "name": "stdout",
     "output_type": "stream",
     "text": [
      "Call option price: 4.51 USD\n"
     ]
    }
   ],
   "source": [
    "#Test result price - 4.51  USD\n",
    "test_option = Option(142, 140, 25, 0.03, 0.22, \"c\",'l')\n",
    "print(f\"Call option price: {round(test_option.price(),2)} USD\")"
   ]
  },
  {
   "cell_type": "code",
   "execution_count": 4,
   "metadata": {},
   "outputs": [],
   "source": [
    "option_1 = Option(142, 140, 25 , 0.03, 0.22, \"c\",\"s\")\n",
    "option_2 = Option(142, 140, 90 , 0.03, 0.22, \"c\",\"l\")"
   ]
  },
  {
   "cell_type": "code",
   "execution_count": 6,
   "metadata": {},
   "outputs": [
    {
     "data": {
      "application/vnd.plotly.v1+json": {
       "config": {
        "plotlyServerURL": "https://plot.ly"
       },
       "data": [
        {
         "colorbar": {
          "title": {
           "text": "Option Price"
          }
         },
         "colorscale": [
          [
           0,
           "#440154"
          ],
          [
           0.1111111111111111,
           "#482878"
          ],
          [
           0.2222222222222222,
           "#3e4989"
          ],
          [
           0.3333333333333333,
           "#31688e"
          ],
          [
           0.4444444444444444,
           "#26828e"
          ],
          [
           0.5555555555555556,
           "#1f9e89"
          ],
          [
           0.6666666666666666,
           "#35b779"
          ],
          [
           0.7777777777777778,
           "#6ece58"
          ],
          [
           0.8888888888888888,
           "#b5de2b"
          ],
          [
           1,
           "#fde725"
          ]
         ],
         "hoverinfo": "x+y+z",
         "hovertemplate": "Spot Price: %{x}<br>Expiration: %{y} days<br>Price: %{z}<extra></extra>",
         "type": "surface",
         "x": {
          "bdata": "ggCDAIQAhQCGAIcAiACJAIoAiwCMAI0AjgCPAJAAkQCSAJMAlACVAJYA",
          "dtype": "i2"
         },
         "y": {
          "bdata": "GRgXFhUUExIREA8ODQwLCgkIBwYFBAMCAQA=",
          "dtype": "i1"
         },
         "z": {
          "bdata": "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",
          "dtype": "f8",
          "shape": "26, 21"
         }
        }
       ],
       "layout": {
        "autosize": true,
        "scene": {
         "xaxis": {
          "title": {
           "text": "Spot Price"
          }
         },
         "yaxis": {
          "title": {
           "text": "Expiration (Days)"
          }
         },
         "zaxis": {
          "title": {
           "text": "Option Price"
          }
         }
        },
        "template": {
         "data": {
          "bar": [
           {
            "error_x": {
             "color": "#2a3f5f"
            },
            "error_y": {
             "color": "#2a3f5f"
            },
            "marker": {
             "line": {
              "color": "#E5ECF6",
              "width": 0.5
             },
             "pattern": {
              "fillmode": "overlay",
              "size": 10,
              "solidity": 0.2
             }
            },
            "type": "bar"
           }
          ],
          "barpolar": [
           {
            "marker": {
             "line": {
              "color": "#E5ECF6",
              "width": 0.5
             },
             "pattern": {
              "fillmode": "overlay",
              "size": 10,
              "solidity": 0.2
             }
            },
            "type": "barpolar"
           }
          ],
          "carpet": [
           {
            "aaxis": {
             "endlinecolor": "#2a3f5f",
             "gridcolor": "white",
             "linecolor": "white",
             "minorgridcolor": "white",
             "startlinecolor": "#2a3f5f"
            },
            "baxis": {
             "endlinecolor": "#2a3f5f",
             "gridcolor": "white",
             "linecolor": "white",
             "minorgridcolor": "white",
             "startlinecolor": "#2a3f5f"
            },
            "type": "carpet"
           }
          ],
          "choropleth": [
           {
            "colorbar": {
             "outlinewidth": 0,
             "ticks": ""
            },
            "type": "choropleth"
           }
          ],
          "contour": [
           {
            "colorbar": {
             "outlinewidth": 0,
             "ticks": ""
            },
            "colorscale": [
             [
              0,
              "#0d0887"
             ],
             [
              0.1111111111111111,
              "#46039f"
             ],
             [
              0.2222222222222222,
              "#7201a8"
             ],
             [
              0.3333333333333333,
              "#9c179e"
             ],
             [
              0.4444444444444444,
              "#bd3786"
             ],
             [
              0.5555555555555556,
              "#d8576b"
             ],
             [
              0.6666666666666666,
              "#ed7953"
             ],
             [
              0.7777777777777778,
              "#fb9f3a"
             ],
             [
              0.8888888888888888,
              "#fdca26"
             ],
             [
              1,
              "#f0f921"
             ]
            ],
            "type": "contour"
           }
          ],
          "contourcarpet": [
           {
            "colorbar": {
             "outlinewidth": 0,
             "ticks": ""
            },
            "type": "contourcarpet"
           }
          ],
          "heatmap": [
           {
            "colorbar": {
             "outlinewidth": 0,
             "ticks": ""
            },
            "colorscale": [
             [
              0,
              "#0d0887"
             ],
             [
              0.1111111111111111,
              "#46039f"
             ],
             [
              0.2222222222222222,
              "#7201a8"
             ],
             [
              0.3333333333333333,
              "#9c179e"
             ],
             [
              0.4444444444444444,
              "#bd3786"
             ],
             [
              0.5555555555555556,
              "#d8576b"
             ],
             [
              0.6666666666666666,
              "#ed7953"
             ],
             [
              0.7777777777777778,
              "#fb9f3a"
             ],
             [
              0.8888888888888888,
              "#fdca26"
             ],
             [
              1,
              "#f0f921"
             ]
            ],
            "type": "heatmap"
           }
          ],
          "histogram": [
           {
            "marker": {
             "pattern": {
              "fillmode": "overlay",
              "size": 10,
              "solidity": 0.2
             }
            },
            "type": "histogram"
           }
          ],
          "histogram2d": [
           {
            "colorbar": {
             "outlinewidth": 0,
             "ticks": ""
            },
            "colorscale": [
             [
              0,
              "#0d0887"
             ],
             [
              0.1111111111111111,
              "#46039f"
             ],
             [
              0.2222222222222222,
              "#7201a8"
             ],
             [
              0.3333333333333333,
              "#9c179e"
             ],
             [
              0.4444444444444444,
              "#bd3786"
             ],
             [
              0.5555555555555556,
              "#d8576b"
             ],
             [
              0.6666666666666666,
              "#ed7953"
             ],
             [
              0.7777777777777778,
              "#fb9f3a"
             ],
             [
              0.8888888888888888,
              "#fdca26"
             ],
             [
              1,
              "#f0f921"
             ]
            ],
            "type": "histogram2d"
           }
          ],
          "histogram2dcontour": [
           {
            "colorbar": {
             "outlinewidth": 0,
             "ticks": ""
            },
            "colorscale": [
             [
              0,
              "#0d0887"
             ],
             [
              0.1111111111111111,
              "#46039f"
             ],
             [
              0.2222222222222222,
              "#7201a8"
             ],
             [
              0.3333333333333333,
              "#9c179e"
             ],
             [
              0.4444444444444444,
              "#bd3786"
             ],
             [
              0.5555555555555556,
              "#d8576b"
             ],
             [
              0.6666666666666666,
              "#ed7953"
             ],
             [
              0.7777777777777778,
              "#fb9f3a"
             ],
             [
              0.8888888888888888,
              "#fdca26"
             ],
             [
              1,
              "#f0f921"
             ]
            ],
            "type": "histogram2dcontour"
           }
          ],
          "mesh3d": [
           {
            "colorbar": {
             "outlinewidth": 0,
             "ticks": ""
            },
            "type": "mesh3d"
           }
          ],
          "parcoords": [
           {
            "line": {
             "colorbar": {
              "outlinewidth": 0,
              "ticks": ""
             }
            },
            "type": "parcoords"
           }
          ],
          "pie": [
           {
            "automargin": true,
            "type": "pie"
           }
          ],
          "scatter": [
           {
            "fillpattern": {
             "fillmode": "overlay",
             "size": 10,
             "solidity": 0.2
            },
            "type": "scatter"
           }
          ],
          "scatter3d": [
           {
            "line": {
             "colorbar": {
              "outlinewidth": 0,
              "ticks": ""
             }
            },
            "marker": {
             "colorbar": {
              "outlinewidth": 0,
              "ticks": ""
             }
            },
            "type": "scatter3d"
           }
          ],
          "scattercarpet": [
           {
            "marker": {
             "colorbar": {
              "outlinewidth": 0,
              "ticks": ""
             }
            },
            "type": "scattercarpet"
           }
          ],
          "scattergeo": [
           {
            "marker": {
             "colorbar": {
              "outlinewidth": 0,
              "ticks": ""
             }
            },
            "type": "scattergeo"
           }
          ],
          "scattergl": [
           {
            "marker": {
             "colorbar": {
              "outlinewidth": 0,
              "ticks": ""
             }
            },
            "type": "scattergl"
           }
          ],
          "scattermap": [
           {
            "marker": {
             "colorbar": {
              "outlinewidth": 0,
              "ticks": ""
             }
            },
            "type": "scattermap"
           }
          ],
          "scattermapbox": [
           {
            "marker": {
             "colorbar": {
              "outlinewidth": 0,
              "ticks": ""
             }
            },
            "type": "scattermapbox"
           }
          ],
          "scatterpolar": [
           {
            "marker": {
             "colorbar": {
              "outlinewidth": 0,
              "ticks": ""
             }
            },
            "type": "scatterpolar"
           }
          ],
          "scatterpolargl": [
           {
            "marker": {
             "colorbar": {
              "outlinewidth": 0,
              "ticks": ""
             }
            },
            "type": "scatterpolargl"
           }
          ],
          "scatterternary": [
           {
            "marker": {
             "colorbar": {
              "outlinewidth": 0,
              "ticks": ""
             }
            },
            "type": "scatterternary"
           }
          ],
          "surface": [
           {
            "colorbar": {
             "outlinewidth": 0,
             "ticks": ""
            },
            "colorscale": [
             [
              0,
              "#0d0887"
             ],
             [
              0.1111111111111111,
              "#46039f"
             ],
             [
              0.2222222222222222,
              "#7201a8"
             ],
             [
              0.3333333333333333,
              "#9c179e"
             ],
             [
              0.4444444444444444,
              "#bd3786"
             ],
             [
              0.5555555555555556,
              "#d8576b"
             ],
             [
              0.6666666666666666,
              "#ed7953"
             ],
             [
              0.7777777777777778,
              "#fb9f3a"
             ],
             [
              0.8888888888888888,
              "#fdca26"
             ],
             [
              1,
              "#f0f921"
             ]
            ],
            "type": "surface"
           }
          ],
          "table": [
           {
            "cells": {
             "fill": {
              "color": "#EBF0F8"
             },
             "line": {
              "color": "white"
             }
            },
            "header": {
             "fill": {
              "color": "#C8D4E3"
             },
             "line": {
              "color": "white"
             }
            },
            "type": "table"
           }
          ]
         },
         "layout": {
          "annotationdefaults": {
           "arrowcolor": "#2a3f5f",
           "arrowhead": 0,
           "arrowwidth": 1
          },
          "autotypenumbers": "strict",
          "coloraxis": {
           "colorbar": {
            "outlinewidth": 0,
            "ticks": ""
           }
          },
          "colorscale": {
           "diverging": [
            [
             0,
             "#8e0152"
            ],
            [
             0.1,
             "#c51b7d"
            ],
            [
             0.2,
             "#de77ae"
            ],
            [
             0.3,
             "#f1b6da"
            ],
            [
             0.4,
             "#fde0ef"
            ],
            [
             0.5,
             "#f7f7f7"
            ],
            [
             0.6,
             "#e6f5d0"
            ],
            [
             0.7,
             "#b8e186"
            ],
            [
             0.8,
             "#7fbc41"
            ],
            [
             0.9,
             "#4d9221"
            ],
            [
             1,
             "#276419"
            ]
           ],
           "sequential": [
            [
             0,
             "#0d0887"
            ],
            [
             0.1111111111111111,
             "#46039f"
            ],
            [
             0.2222222222222222,
             "#7201a8"
            ],
            [
             0.3333333333333333,
             "#9c179e"
            ],
            [
             0.4444444444444444,
             "#bd3786"
            ],
            [
             0.5555555555555556,
             "#d8576b"
            ],
            [
             0.6666666666666666,
             "#ed7953"
            ],
            [
             0.7777777777777778,
             "#fb9f3a"
            ],
            [
             0.8888888888888888,
             "#fdca26"
            ],
            [
             1,
             "#f0f921"
            ]
           ],
           "sequentialminus": [
            [
             0,
             "#0d0887"
            ],
            [
             0.1111111111111111,
             "#46039f"
            ],
            [
             0.2222222222222222,
             "#7201a8"
            ],
            [
             0.3333333333333333,
             "#9c179e"
            ],
            [
             0.4444444444444444,
             "#bd3786"
            ],
            [
             0.5555555555555556,
             "#d8576b"
            ],
            [
             0.6666666666666666,
             "#ed7953"
            ],
            [
             0.7777777777777778,
             "#fb9f3a"
            ],
            [
             0.8888888888888888,
             "#fdca26"
            ],
            [
             1,
             "#f0f921"
            ]
           ]
          },
          "colorway": [
           "#636efa",
           "#EF553B",
           "#00cc96",
           "#ab63fa",
           "#FFA15A",
           "#19d3f3",
           "#FF6692",
           "#B6E880",
           "#FF97FF",
           "#FECB52"
          ],
          "font": {
           "color": "#2a3f5f"
          },
          "geo": {
           "bgcolor": "white",
           "lakecolor": "white",
           "landcolor": "#E5ECF6",
           "showlakes": true,
           "showland": true,
           "subunitcolor": "white"
          },
          "hoverlabel": {
           "align": "left"
          },
          "hovermode": "closest",
          "mapbox": {
           "style": "light"
          },
          "paper_bgcolor": "white",
          "plot_bgcolor": "#E5ECF6",
          "polar": {
           "angularaxis": {
            "gridcolor": "white",
            "linecolor": "white",
            "ticks": ""
           },
           "bgcolor": "#E5ECF6",
           "radialaxis": {
            "gridcolor": "white",
            "linecolor": "white",
            "ticks": ""
           }
          },
          "scene": {
           "xaxis": {
            "backgroundcolor": "#E5ECF6",
            "gridcolor": "white",
            "gridwidth": 2,
            "linecolor": "white",
            "showbackground": true,
            "ticks": "",
            "zerolinecolor": "white"
           },
           "yaxis": {
            "backgroundcolor": "#E5ECF6",
            "gridcolor": "white",
            "gridwidth": 2,
            "linecolor": "white",
            "showbackground": true,
            "ticks": "",
            "zerolinecolor": "white"
           },
           "zaxis": {
            "backgroundcolor": "#E5ECF6",
            "gridcolor": "white",
            "gridwidth": 2,
            "linecolor": "white",
            "showbackground": true,
            "ticks": "",
            "zerolinecolor": "white"
           }
          },
          "shapedefaults": {
           "line": {
            "color": "#2a3f5f"
           }
          },
          "ternary": {
           "aaxis": {
            "gridcolor": "white",
            "linecolor": "white",
            "ticks": ""
           },
           "baxis": {
            "gridcolor": "white",
            "linecolor": "white",
            "ticks": ""
           },
           "bgcolor": "#E5ECF6",
           "caxis": {
            "gridcolor": "white",
            "linecolor": "white",
            "ticks": ""
           }
          },
          "title": {
           "x": 0.05
          },
          "xaxis": {
           "automargin": true,
           "gridcolor": "white",
           "linecolor": "white",
           "ticks": "",
           "title": {
            "standoff": 15
           },
           "zerolinecolor": "white",
           "zerolinewidth": 2
          },
          "yaxis": {
           "automargin": true,
           "gridcolor": "white",
           "linecolor": "white",
           "ticks": "",
           "title": {
            "standoff": 15
           },
           "zerolinecolor": "white",
           "zerolinewidth": 2
          }
         }
        },
        "title": {
         "text": "3D Option Price Surface"
        }
       }
      }
     },
     "metadata": {},
     "output_type": "display_data"
    }
   ],
   "source": [
    "option_1_grid = option_1.generate_price_grid(130, 150)\n",
    "\n",
    "# Create the 3D surface plot\n",
    "fig = go.Figure(data=go.Surface(\n",
    "    x=option_1_grid['spot_values'],  \n",
    "    y=option_1_grid['expiration_values'],\n",
    "    z=option_1_grid['price_grid'],  \n",
    "    colorscale='Viridis',\n",
    "    colorbar=dict(title='Option Price'),\n",
    "    hoverinfo='x+y+z',  # Zobrazení souřadnic a hodnoty při hoveru\n",
    "    hovertemplate='Spot Price: %{x}<br>Expiration: %{y} days<br>Price: %{z}<extra></extra>'\n",
    "))\n",
    "\n",
    "# Update layout with titles and axis labels\n",
    "fig.update_layout(\n",
    "    title='3D Option Price Surface',\n",
    "    scene=dict(\n",
    "        xaxis_title='Spot Price',\n",
    "        yaxis_title='Expiration (Days)',\n",
    "        zaxis_title='Option Price'\n",
    "    ),\n",
    "    autosize=True\n",
    ")\n",
    "\n",
    "# Show the plot\n",
    "fig.show()"
   ]
  }
 ],
 "metadata": {
  "kernelspec": {
   "display_name": "option_calendar_spread",
   "language": "python",
   "name": "python3"
  },
  "language_info": {
   "codemirror_mode": {
    "name": "ipython",
    "version": 3
   },
   "file_extension": ".py",
   "mimetype": "text/x-python",
   "name": "python",
   "nbconvert_exporter": "python",
   "pygments_lexer": "ipython3",
   "version": "3.11.9"
  }
 },
 "nbformat": 4,
 "nbformat_minor": 2
}
